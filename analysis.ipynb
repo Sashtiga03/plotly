{
 "cells": [
  {
   "cell_type": "code",
   "execution_count": 3,
   "metadata": {},
   "outputs": [],
   "source": [
    "import pandas as pd\n",
    "import plotly.express as px\n",
    "import plotly.graph_objects as go\n",
    "import os\n",
    "import numpy as np\n",
    "import plotly.io as pio\n",
    "\n"
   ]
  },
  {
   "cell_type": "code",
   "execution_count": 16,
   "metadata": {},
   "outputs": [],
   "source": [
    "# Set renderer to open in the browser (if not using Jupyter Notebook\n",
    "pio.renderers.default = \"browser\""
   ]
  },
  {
   "cell_type": "code",
   "execution_count": 17,
   "metadata": {},
   "outputs": [],
   "source": [
    "# Function to parse complex values and return magnitude\n",
    "def parse_complex(value):\n",
    "    try:\n",
    "        # Remove parentheses and convert to complex\n",
    "        value = value.replace('(', '').replace(')', '')\n",
    "        return abs(complex(value))  # Return magnitude\n",
    "    except:\n",
    "        return np.nan"
   ]
  },
  {
   "cell_type": "code",
   "execution_count": 18,
   "metadata": {},
   "outputs": [],
   "source": [
    "# Paths to the data\n",
    "folder_path = r\"C:\\Users\\sasht\\Downloads\\archive\\cleaned_dataset\\data\"  # Folder with impedance files\n",
    "meta_file_path = r\"C:\\Users\\sasht\\Downloads\\archive\\cleaned_dataset\\metadata.csv\"  # Metadata file"
   ]
  },
  {
   "cell_type": "code",
   "execution_count": 19,
   "metadata": {},
   "outputs": [],
   "source": [
    "# Step 1: Load metadata and filter for impedance type\n",
    "metadata = pd.read_csv(meta_file_path)\n",
    "impedance_files = metadata[metadata['type'] == 'impedance']['filename'].tolist()"
   ]
  },
  {
   "cell_type": "code",
   "execution_count": 20,
   "metadata": {},
   "outputs": [],
   "source": [
    "# Step 2: Extract Battery Impedance magnitudes and combine with Re and Rct\n",
    "results = []\n",
    "for file in impedance_files:\n",
    "    file_path = os.path.join(folder_path, file)\n",
    "    try:\n",
    "        # Load impedance file\n",
    "        df = pd.read_csv(file_path)\n",
    "        \n",
    "        # Parse and calculate magnitude of Battery_impedance\n",
    "        if 'Battery_impedance' in df.columns:\n",
    "            df['Battery_impedance'] = df['Battery_impedance'].apply(parse_complex)\n",
    "            mean_impedance = df['Battery_impedance'].mean()  # Aggregate (mean) impedance magnitude\n",
    "            \n",
    "            # Get Re and Rct values for the file\n",
    "            re = metadata.loc[metadata['filename'] == file, 'Re'].values[0]\n",
    "            rct = metadata.loc[metadata['filename'] == file, 'Rct'].values[0]\n",
    "            \n",
    "            # Append results with cycle number\n",
    "            results.append({'Cycle': len(results) + 1, 'Re': re, 'Rct': rct, 'Battery_impedance': mean_impedance})\n",
    "    except Exception as e:\n",
    "        print(f\"Error processing {file}: {e}\")"
   ]
  },
  {
   "cell_type": "code",
   "execution_count": null,
   "metadata": {},
   "outputs": [],
   "source": [
    "# Step 3: Create a summary DataFrame\n",
    "summary_df = pd.DataFrame(results)"
   ]
  },
  {
   "cell_type": "code",
   "execution_count": 21,
   "metadata": {},
   "outputs": [],
   "source": [
    "# Plot 1: Battery Impedance vs Cycle Number\n",
    "fig_impedance = px.line(\n",
    "    summary_df,\n",
    "    x='Cycle',\n",
    "    y='Battery_impedance',\n",
    "    title='Battery Impedance Over Charge/Discharge Cycles',\n",
    "    labels={'Cycle': 'Cycle Number', 'Battery_impedance': 'Battery Impedance (Magnitude)'}\n",
    ")\n",
    "fig_impedance.show()"
   ]
  },
  {
   "cell_type": "code",
   "execution_count": 22,
   "metadata": {},
   "outputs": [],
   "source": [
    "# Plot 2: Re and Rct vs Cycle Number\n",
    "fig_re_rct = px.line(\n",
    "    summary_df.melt(id_vars='Cycle', value_vars=['Re', 'Rct']),\n",
    "    x='Cycle',\n",
    "    y='value',\n",
    "    color='variable',\n",
    "    title='Re and Rct Over Charge/Discharge Cycles',\n",
    "    labels={'Cycle': 'Cycle Number', 'value': 'Resistance (Ohms)', 'variable': 'Parameter'}\n",
    ")\n",
    "fig_re_rct.show()"
   ]
  },
  {
   "cell_type": "code",
   "execution_count": 23,
   "metadata": {},
   "outputs": [],
   "source": [
    "# Plot 3: Scatter Plot of Re vs Rct with Battery Impedance\n",
    "fig_scatter = px.scatter(\n",
    "    summary_df,\n",
    "    x='Re',\n",
    "    y='Rct',\n",
    "    color='Battery_impedance',\n",
    "    size='Battery_impedance',\n",
    "    title='Scatter Plot of Re vs Rct with Battery Impedance',\n",
    "    labels={'Re': 'Electrolyte Resistance (Ohms)', 'Rct': 'Charge Transfer Resistance (Ohms)', 'Battery_impedance': 'Impedance Magnitude'}\n",
    ")\n",
    "fig_scatter.show()"
   ]
  }
 ],
 "metadata": {
  "kernelspec": {
   "display_name": "Python 3",
   "language": "python",
   "name": "python3"
  },
  "language_info": {
   "codemirror_mode": {
    "name": "ipython",
    "version": 3
   },
   "file_extension": ".py",
   "mimetype": "text/x-python",
   "name": "python",
   "nbconvert_exporter": "python",
   "pygments_lexer": "ipython3",
   "version": "3.12.5"
  }
 },
 "nbformat": 4,
 "nbformat_minor": 2
}
